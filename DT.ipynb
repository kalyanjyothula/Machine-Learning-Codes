{
 "cells": [
  {
   "cell_type": "code",
   "execution_count": 19,
   "metadata": {},
   "outputs": [
    {
     "name": "stdout",
     "output_type": "stream",
     "text": [
      "0.9666666666666667\n",
      "[[12  0  0]\n",
      " [ 0 14  1]\n",
      " [ 0  0  3]]\n"
     ]
    }
   ],
   "source": [
    "import pandas as pd\n",
    "from sklearn.model_selection import train_test_split\n",
    "from sklearn.tree import DecisionTreeClassifier\n",
    "from sklearn.metrics import accuracy_score, confusion_matrix\n",
    "\n",
    "\n",
    "data = pd.read_csv(\"iris_data.csv\")\n",
    "features = data.drop(columns = ['Class'])\n",
    "target = data['Class']\n",
    "\n",
    "feature_tarin, feature_test, target_train,target_test = train_test_split(features,target,test_size=.2)\n",
    "\n",
    "model = DecisionTreeClassifier(criterion=\"entropy\") # gini\n",
    "model.fit(feature_tarin,target_train)\n",
    "\n",
    "pred = model.predict(feature_test)\n",
    "\n",
    "print(accuracy_score(pred, target_test))\n",
    "print(confusion_matrix(pred, target_test))\n"
   ]
  },
  {
   "cell_type": "code",
   "execution_count": 6,
   "metadata": {},
   "outputs": [
    {
     "name": "stdout",
     "output_type": "stream",
     "text": [
      "(379, 13)\n",
      "(127, 13)\n",
      "1.0\n",
      "0.7038312015987166\n",
      "[18.2 13.9]\n",
      "4\n"
     ]
    }
   ],
   "source": [
    "import numpy as np\n",
    "from sklearn import datasets\n",
    "from sklearn.model_selection import train_test_split\n",
    "from sklearn.tree import DecisionTreeRegressor\n",
    "\n",
    "np.random.seed(100)\n",
    "boston = datasets.load_boston()\n",
    "X_train,X_test, Y_train,Y_test = train_test_split(boston.data, boston.target, random_state = 30)\n",
    "\n",
    "print(X_train.shape)\n",
    "print(X_test.shape)\n",
    "\n",
    "model  =  DecisionTreeRegressor()\n",
    "model.fit(X_train, Y_train)\n",
    "\n",
    "print(model.score(X_train, Y_train))\n",
    "print(model.score(X_test, Y_test))\n",
    "\n",
    "pred = model.predict(X_test[:2])\n",
    "\n",
    "print(pred)\n",
    "acc = 0\n",
    "l =0\n",
    "for i in range(2,6,1):\n",
    "    pref = DecisionTreeRegressor(max_depth=i)\n",
    "    pref.fit(X_train,Y_train)\n",
    "    score  = pref.score(X_test, Y_test)\n",
    "    if(score > acc):\n",
    "        acc =score\n",
    "        l = i\n",
    "print(l)"
   ]
  }
 ],
 "metadata": {
  "kernelspec": {
   "display_name": "Python 3",
   "language": "python",
   "name": "python3"
  },
  "language_info": {
   "codemirror_mode": {
    "name": "ipython",
    "version": 3
   },
   "file_extension": ".py",
   "mimetype": "text/x-python",
   "name": "python",
   "nbconvert_exporter": "python",
   "pygments_lexer": "ipython3",
   "version": "3.7.3"
  }
 },
 "nbformat": 4,
 "nbformat_minor": 2
}
