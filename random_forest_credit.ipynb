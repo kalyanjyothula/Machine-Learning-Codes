{
 "cells": [
  {
   "cell_type": "code",
   "execution_count": 3,
   "metadata": {},
   "outputs": [
    {
     "name": "stdout",
     "output_type": "stream",
     "text": [
      "1.0\n"
     ]
    }
   ],
   "source": [
    "import pandas as pd\n",
    "from sklearn.metrics import accuracy_score\n",
    "from sklearn.ensemble import RandomForestClassifier\n",
    "from sklearn.model_selection import train_test_split\n",
    "\n",
    "\n",
    "data = pd.read_csv(\"credit_data.csv\")\n",
    "\n",
    "features = data.drop(columns = ['default'])\n",
    "target = data.default\n",
    "\n",
    "feature_train, feature_test, target_train, target_test = train_test_split(features,target, test_size = 0.2)\n",
    "\n",
    "model  = RandomForestClassifier(n_estimators=1000, max_features='sqrt')\n",
    "fitted_model = model.fit(feature_train,target_train)\n",
    "pred = model.predict(feature_test)\n",
    "\n",
    "print(accuracy_score(target_test,pred))"
   ]
  },
  {
   "cell_type": "code",
   "execution_count": 10,
   "metadata": {},
   "outputs": [
    {
     "name": "stdout",
     "output_type": "stream",
     "text": [
      "(379, 13)\n",
      "(127, 13)\n",
      "0.9735273853589964\n",
      "0.8829204928067821\n",
      "[19.59  9.47]\n"
     ]
    },
    {
     "name": "stderr",
     "output_type": "stream",
     "text": [
      "/home/kalyanjyothula/anaconda3/lib/python3.7/site-packages/sklearn/ensemble/forest.py:246: FutureWarning: The default value of n_estimators will change from 10 in version 0.20 to 100 in 0.22.\n",
      "  \"10 in version 0.20 to 100 in 0.22.\", FutureWarning)\n",
      "/home/kalyanjyothula/anaconda3/lib/python3.7/site-packages/sklearn/model_selection/_split.py:2053: FutureWarning: You should specify a value for 'cv' instead of relying on the default value. The default value will change from 3 to 5 in version 0.22.\n",
      "  warnings.warn(CV_WARNING, FutureWarning)\n"
     ]
    },
    {
     "name": "stdout",
     "output_type": "stream",
     "text": [
      "(5, 100)\n"
     ]
    }
   ],
   "source": [
    "from sklearn import datasets\n",
    "from sklearn.model_selection import train_test_split,GridSearchCV\n",
    "import numpy as np\n",
    "from sklearn.ensemble import RandomForestRegressor\n",
    "\n",
    "np.random.seed(100)\n",
    "\n",
    "boston = datasets.load_boston()\n",
    "\n",
    "X_train,X_test,Y_train, Y_test = train_test_split(boston.data, boston.target, random_state = 30)\n",
    "print(X_train.shape)\n",
    "print(X_test.shape)\n",
    "\n",
    "rf_reg = RandomForestRegressor()\n",
    "rf_reg.fit(X_train,Y_train)\n",
    "\n",
    "print(rf_reg.score(X_train,Y_train))\n",
    "print(rf_reg.score(X_test,Y_test))\n",
    "\n",
    "pred = rf_reg.predict(X_test[:2])\n",
    "print(pred)\n",
    "\n",
    "n = [50,100,200]\n",
    "c = 0\n",
    "param_grid = {'max_depth':[3,4,5], 'n_estimators':[50,100,200]}\n",
    "model = GridSearchCV(RandomForestRegressor(),param_grid)\n",
    "model.fit(X_train,Y_train)\n",
    "print(tuple((model.best_params_['max_depth'],model.best_params_['n_estimators'])))\n",
    "    "
   ]
  }
 ],
 "metadata": {
  "kernelspec": {
   "display_name": "Python 3",
   "language": "python",
   "name": "python3"
  },
  "language_info": {
   "codemirror_mode": {
    "name": "ipython",
    "version": 3
   },
   "file_extension": ".py",
   "mimetype": "text/x-python",
   "name": "python",
   "nbconvert_exporter": "python",
   "pygments_lexer": "ipython3",
   "version": "3.7.3"
  }
 },
 "nbformat": 4,
 "nbformat_minor": 2
}
