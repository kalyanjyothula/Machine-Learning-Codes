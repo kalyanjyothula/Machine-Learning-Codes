{
 "cells": [
  {
   "cell_type": "code",
   "execution_count": 9,
   "metadata": {},
   "outputs": [
    {
     "name": "stdout",
     "output_type": "stream",
     "text": [
      "[9]\n"
     ]
    }
   ],
   "source": [
    "import matplotlib.pyplot as plt\n",
    "from sklearn import svm, datasets\n",
    "from sklearn.metrics import accuracy_score,confusion_matrix\n",
    "\n",
    "data = datasets.load_digits()\n",
    "\n",
    "image_labels = list(zip(data.images, data.target))\n",
    "\n",
    "# for index, (image, label) in enumerate(image_labels[:6]):\n",
    "#    plt.subplot(2, 3, index + 1)\n",
    "#    plt.imshow(image, cmap=plt.cm.gray_r, interpolation='nearest')\n",
    "#    plt.title('Target: %i' % label)\n",
    "\n",
    "total_images = len(data.images)\n",
    "\n",
    "image_data = data.images.reshape(total_images, -1)\n",
    "# image_data.shape\n",
    "\n",
    "model = svm.SVC(gamma = 0.001)\n",
    "train_test_split = int(total_images*0.70)\n",
    "model.fit(image_data[:train_test_split],data.target[:train_test_split])\n",
    "\n",
    "pred = model.predict(image_data[train_test_split:])\n",
    "expt = data.target[train_test_split:]\n",
    "\n",
    "accuracy_score(expt, pred)\n",
    "confusion_matrix(expt,pred)\n",
    "print(model.predict(image_data[-2].reshape(1,-1)))"
   ]
  }
 ],
 "metadata": {
  "kernelspec": {
   "display_name": "Python 3",
   "language": "python",
   "name": "python3"
  },
  "language_info": {
   "codemirror_mode": {
    "name": "ipython",
    "version": 3
   },
   "file_extension": ".py",
   "mimetype": "text/x-python",
   "name": "python",
   "nbconvert_exporter": "python",
   "pygments_lexer": "ipython3",
   "version": "3.7.3"
  }
 },
 "nbformat": 4,
 "nbformat_minor": 2
}
