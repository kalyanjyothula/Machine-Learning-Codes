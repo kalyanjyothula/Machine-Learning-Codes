{
 "cells": [
  {
   "cell_type": "code",
   "execution_count": 19,
   "metadata": {},
   "outputs": [
    {
     "name": "stdout",
     "output_type": "stream",
     "text": [
      "0.9666666666666667\n",
      "[[12  0  0]\n",
      " [ 0 14  1]\n",
      " [ 0  0  3]]\n"
     ]
    }
   ],
   "source": [
    "import pandas as pd\n",
    "from sklearn.model_selection import train_test_split\n",
    "from sklearn.tree import DecisionTreeClassifier\n",
    "from sklearn.metrics import accuracy_score, confusion_matrix\n",
    "\n",
    "\n",
    "data = pd.read_csv(\"iris_data.csv\")\n",
    "features = data.drop(columns = ['Class'])\n",
    "target = data['Class']\n",
    "\n",
    "feature_tarin, feature_test, target_train,target_test = train_test_split(features,target,test_size=.2)\n",
    "\n",
    "model = DecisionTreeClassifier(criterion=\"entropy\") # gini\n",
    "model.fit(feature_tarin,target_train)\n",
    "\n",
    "pred = model.predict(feature_test)\n",
    "\n",
    "print(accuracy_score(pred, target_test))\n",
    "print(confusion_matrix(pred, target_test))\n"
   ]
  }
 ],
 "metadata": {
  "kernelspec": {
   "display_name": "Python 3",
   "language": "python",
   "name": "python3"
  },
  "language_info": {
   "codemirror_mode": {
    "name": "ipython",
    "version": 3
   },
   "file_extension": ".py",
   "mimetype": "text/x-python",
   "name": "python",
   "nbconvert_exporter": "python",
   "pygments_lexer": "ipython3",
   "version": "3.7.3"
  }
 },
 "nbformat": 4,
 "nbformat_minor": 2
}
