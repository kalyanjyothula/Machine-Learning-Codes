{
 "cells": [
  {
   "cell_type": "code",
   "execution_count": null,
   "metadata": {},
   "outputs": [],
   "source": [
    "from sklearn import datasets\n",
    "from sklearn.ensemble import RandomForestClassifier\n",
    "from sklearn.metrics import accuracy_score\n",
    "from sklearn.model_selection import train_test_split,  GridSearchCV\n",
    "\n",
    "dataset = datasets.load_digits()\n",
    "\n",
    "features = dataset.images.reshape(len(dataset.images), -1)\n",
    "target = dataset.target\n",
    "\n",
    "model = RandomForestClassifier(n_jobs=-1, max_features='sqrt')\n",
    "\n",
    "feature_train, feature_test, target_tarin, target_test = train_test_split(features, target, test_size=0.2)\n",
    "\n",
    "param_grid = {\n",
    "    \"n_estimators\" : [10,100,500,1000],\n",
    "    \"max_depth\" : [1,5,10,15],\n",
    "    \"min_samples_leaf\" : [1,2,3,4,5,10,15,20,30,40,50]              \n",
    "}\n",
    "\n",
    "grid_search = GridSearchCV(estimator=model, param_grid=param_grid, cv=10)\n",
    "grid_search.fit(feature_train, target_tarin)\n",
    "\n",
    "optimal_estimators = grid_search.best_params_.get(\"n_estimators\")\n",
    "optimal_depth = grid_search.best_params_.get(\"max_depth\")\n",
    "optimal_leaf = grid_search.best_params_.get(\"min_samples_leaf\")\n",
    "\n",
    "print(grid_search.best_params_)\n",
    "\n",
    "best_model = RandomForestClassifier(n_estimators=500, max_depth=15, max_features='sqrt', min_samples_leaf = 1)\n",
    "# k_fold = model_selection.KFold(n_splits=10, random_state=123)\n",
    "\n",
    "best_model.fit(feature_train,target_tarin)\n",
    "pred = best_model.predict(feature_test)\n",
    "\n",
    "print(accuracy_score(pred, target_test))\n",
    "\n"
   ]
  }
 ],
 "metadata": {
  "kernelspec": {
   "display_name": "Python 3",
   "language": "python",
   "name": "python3"
  },
  "language_info": {
   "codemirror_mode": {
    "name": "ipython",
    "version": 3
   },
   "file_extension": ".py",
   "mimetype": "text/x-python",
   "name": "python",
   "nbconvert_exporter": "python",
   "pygments_lexer": "ipython3",
   "version": "3.7.3"
  }
 },
 "nbformat": 4,
 "nbformat_minor": 2
}
