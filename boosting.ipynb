{
 "cells": [
  {
   "cell_type": "code",
   "execution_count": 28,
   "metadata": {},
   "outputs": [
    {
     "name": "stdout",
     "output_type": "stream",
     "text": [
      "0.9333333333333333\n"
     ]
    }
   ],
   "source": [
    "import pandas as pd\n",
    "from sklearn.ensemble import AdaBoostClassifier\n",
    "from sklearn.model_selection import train_test_split\n",
    "from sklearn.metrics import accuracy_score\n",
    "\n",
    "data = pd.read_csv(\"iris_data.csv\")\n",
    "\n",
    "feature = data.drop(columns=['Class'])\n",
    "target = data.Class\n",
    "\n",
    "feature_train, feature_test, target_train, target_test = train_test_split(feature, target, test_size = 0.2)\n",
    "\n",
    "model = AdaBoostClassifier(n_estimators=100, learning_rate=1)\n",
    "model.fit(feature_train, target_train)\n",
    "\n",
    "pred = model.predict(feature_test)\n",
    "\n",
    "print(accuracy_score(pred, target_test))"
   ]
  }
 ],
 "metadata": {
  "kernelspec": {
   "display_name": "Python 3",
   "language": "python",
   "name": "python3"
  },
  "language_info": {
   "codemirror_mode": {
    "name": "ipython",
    "version": 3
   },
   "file_extension": ".py",
   "mimetype": "text/x-python",
   "name": "python",
   "nbconvert_exporter": "python",
   "pygments_lexer": "ipython3",
   "version": "3.7.3"
  }
 },
 "nbformat": 4,
 "nbformat_minor": 2
}
