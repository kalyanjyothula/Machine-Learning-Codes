{
 "cells": [
  {
   "cell_type": "code",
   "execution_count": 13,
   "metadata": {},
   "outputs": [
    {
     "name": "stdout",
     "output_type": "stream",
     "text": [
      "1.0\n",
      "[[11  0  0]\n",
      " [ 0  9  0]\n",
      " [ 0  0 10]]\n"
     ]
    }
   ],
   "source": [
    "from sklearn import datasets\n",
    "from sklearn.metrics import accuracy_score, confusion_matrix\n",
    "from sklearn.ensemble import RandomForestClassifier\n",
    "from sklearn.model_selection import train_test_split,GridSearchCV\n",
    "\n",
    "data = datasets.load_iris()\n",
    "features = data.data\n",
    "target = data.target\n",
    "\n",
    "feature_train, feature_test, target_train, target_test = train_test_split(features, target, test_size = 0.2)\n",
    "\n",
    "model  = RandomForestClassifier(n_estimators=1000, max_features='sqrt')\n",
    "fit_model = model.fit(feature_train,target_train)\n",
    "pred = fit_model.predict(feature_test)\n",
    "\n",
    "print(accuracy_score(target_test,pred))\n",
    "print(confusion_matrix(target_test,pred))\n",
    "\n"
   ]
  }
 ],
 "metadata": {
  "kernelspec": {
   "display_name": "Python 3",
   "language": "python",
   "name": "python3"
  },
  "language_info": {
   "codemirror_mode": {
    "name": "ipython",
    "version": 3
   },
   "file_extension": ".py",
   "mimetype": "text/x-python",
   "name": "python",
   "nbconvert_exporter": "python",
   "pygments_lexer": "ipython3",
   "version": "3.7.3"
  }
 },
 "nbformat": 4,
 "nbformat_minor": 2
}
